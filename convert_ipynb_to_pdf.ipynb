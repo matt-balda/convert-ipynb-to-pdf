{
  "nbformat": 4,
  "nbformat_minor": 0,
  "metadata": {
    "colab": {
      "provenance": [],
      "mount_file_id": "1mcIVyI3UJlzW216SJ95CsyG4kV2zsqLy",
      "authorship_tag": "ABX9TyONi+xoRUVy79dOCMoEmzn6",
      "include_colab_link": true
    },
    "kernelspec": {
      "name": "python3",
      "display_name": "Python 3"
    },
    "language_info": {
      "name": "python"
    }
  },
  "cells": [
    {
      "cell_type": "markdown",
      "metadata": {
        "id": "view-in-github",
        "colab_type": "text"
      },
      "source": [
        "<a href=\"https://colab.research.google.com/github/matt-balda/convert-ipynb-to-pdf/blob/master/convert_ipynb_to_pdf.ipynb\" target=\"_parent\"><img src=\"https://colab.research.google.com/assets/colab-badge.svg\" alt=\"Open In Colab\"/></a>"
      ]
    },
    {
      "cell_type": "code",
      "execution_count": 32,
      "metadata": {
        "colab": {
          "base_uri": "https://localhost:8080/"
        },
        "id": "CJgoiosrfOBa",
        "outputId": "90e45013-4622-40c5-9b0b-23b3dbd20499"
      },
      "outputs": [
        {
          "output_type": "stream",
          "name": "stdout",
          "text": [
            "[NbConvertApp] Converting notebook regression22_11.ipynb to html\n",
            "[NbConvertApp] Writing 753339 bytes to regression22_11.html\n"
          ]
        }
      ],
      "source": [
        "!jupyter nbconvert --to html regression22_11.ipynb"
      ]
    },
    {
      "cell_type": "code",
      "source": [
        "!sudo apt-get install texlive-xetex texlive-fonts-recommended texlive-plain-generic"
      ],
      "metadata": {
        "id": "0nd4TD-af8di",
        "colab": {
          "base_uri": "https://localhost:8080/"
        },
        "outputId": "cb1a3764-e2cc-4e4a-cd8a-babec241fab9"
      },
      "execution_count": 30,
      "outputs": [
        {
          "output_type": "stream",
          "name": "stdout",
          "text": [
            "Reading package lists... Done\n",
            "Building dependency tree... Done\n",
            "Reading state information... Done\n",
            "texlive-fonts-recommended is already the newest version (2021.20220204-1).\n",
            "texlive-plain-generic is already the newest version (2021.20220204-1).\n",
            "texlive-xetex is already the newest version (2021.20220204-1).\n",
            "0 upgraded, 0 newly installed, 0 to remove and 10 not upgraded.\n"
          ]
        }
      ]
    },
    {
      "cell_type": "code",
      "source": [
        "!jupyter nbconvert --to pdf /content/regression22_11.ipynb"
      ],
      "metadata": {
        "colab": {
          "base_uri": "https://localhost:8080/"
        },
        "id": "KDdZV0Y2gSH1",
        "outputId": "2315a55b-3d9c-4a6a-9130-503cacf07eec"
      },
      "execution_count": 33,
      "outputs": [
        {
          "output_type": "stream",
          "name": "stdout",
          "text": [
            "[NbConvertApp] Converting notebook /content/regression22_11.ipynb to pdf\n",
            "[NbConvertApp] Support files will be in regression22_11_files/\n",
            "[NbConvertApp] Making directory ./regression22_11_files\n",
            "[NbConvertApp] Making directory ./regression22_11_files\n",
            "[NbConvertApp] Writing 24370 bytes to notebook.tex\n",
            "[NbConvertApp] Building PDF\n",
            "[NbConvertApp] Running xelatex 3 times: ['xelatex', 'notebook.tex', '-quiet']\n",
            "[NbConvertApp] Running bibtex 1 time: ['bibtex', 'notebook']\n",
            "[NbConvertApp] WARNING | bibtex had problems, most likely because there were no citations\n",
            "[NbConvertApp] PDF successfully created\n",
            "[NbConvertApp] Writing 72246 bytes to /content/regression22_11.pdf\n"
          ]
        }
      ]
    }
  ]
}